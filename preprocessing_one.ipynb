{
  "nbformat": 4,
  "nbformat_minor": 0,
  "metadata": {
    "colab": {
      "name": "test_workspace.ipynb",
      "provenance": [],
      "collapsed_sections": [],
      "authorship_tag": "ABX9TyMdbE13Xh0QiX/pENwNRYMu",
      "include_colab_link": true
    },
    "kernelspec": {
      "name": "python3",
      "display_name": "Python 3"
    },
    "language_info": {
      "name": "python"
    }
  },
  "cells": [
    {
      "cell_type": "markdown",
      "metadata": {
        "id": "view-in-github",
        "colab_type": "text"
      },
      "source": [
        "<a href=\"https://colab.research.google.com/github/MikeRodziewicz/Udemy_ML_Bootcamp/blob/main/preprocessing_one.ipynb\" target=\"_parent\"><img src=\"https://colab.research.google.com/assets/colab-badge.svg\" alt=\"Open In Colab\"/></a>"
      ]
    },
    {
      "cell_type": "code",
      "metadata": {
        "id": "vDnON2_8Kz9b"
      },
      "source": [
        "import sklearn"
      ],
      "execution_count": 1,
      "outputs": []
    },
    {
      "cell_type": "code",
      "metadata": {
        "id": "H9hBMe7RK3ee"
      },
      "source": [
        "import numpy as np\n",
        "import pandas as pd\n",
        "import sklearn"
      ],
      "execution_count": 2,
      "outputs": []
    },
    {
      "cell_type": "code",
      "metadata": {
        "id": "MkziYzpS7IJO"
      },
      "source": [
        "data = {\n",
        "    'size': ['XL', 'L', 'M', 'L', 'M'],\n",
        "    'color': ['red', 'green', 'blue', 'green', 'red'],\n",
        "    'gender': ['female', 'male', 'male', 'female', 'female'],\n",
        "    'price': [199.0, 89.0, 99.0, 129.0, 79.0],\n",
        "    'weight': [500, 450, 300, 380, 410],\n",
        "    'bought': ['yes', 'no', 'yes', 'no', 'yes']\n",
        "}"
      ],
      "execution_count": 3,
      "outputs": []
    },
    {
      "cell_type": "code",
      "metadata": {
        "id": "wBxNELCABfcl"
      },
      "source": [
        "df_raw = pd.DataFrame(data=data)"
      ],
      "execution_count": 4,
      "outputs": []
    },
    {
      "cell_type": "code",
      "metadata": {
        "colab": {
          "base_uri": "https://localhost:8080/",
          "height": 204
        },
        "id": "RVe5Vnd4Bk06",
        "outputId": "4fbc2ec5-dce9-48e4-f39d-7d34c61c3764"
      },
      "source": [
        "df_raw"
      ],
      "execution_count": 5,
      "outputs": [
        {
          "output_type": "execute_result",
          "data": {
            "text/html": [
              "<div>\n",
              "<style scoped>\n",
              "    .dataframe tbody tr th:only-of-type {\n",
              "        vertical-align: middle;\n",
              "    }\n",
              "\n",
              "    .dataframe tbody tr th {\n",
              "        vertical-align: top;\n",
              "    }\n",
              "\n",
              "    .dataframe thead th {\n",
              "        text-align: right;\n",
              "    }\n",
              "</style>\n",
              "<table border=\"1\" class=\"dataframe\">\n",
              "  <thead>\n",
              "    <tr style=\"text-align: right;\">\n",
              "      <th></th>\n",
              "      <th>size</th>\n",
              "      <th>color</th>\n",
              "      <th>gender</th>\n",
              "      <th>price</th>\n",
              "      <th>weight</th>\n",
              "      <th>bought</th>\n",
              "    </tr>\n",
              "  </thead>\n",
              "  <tbody>\n",
              "    <tr>\n",
              "      <th>0</th>\n",
              "      <td>XL</td>\n",
              "      <td>red</td>\n",
              "      <td>female</td>\n",
              "      <td>199.0</td>\n",
              "      <td>500</td>\n",
              "      <td>yes</td>\n",
              "    </tr>\n",
              "    <tr>\n",
              "      <th>1</th>\n",
              "      <td>L</td>\n",
              "      <td>green</td>\n",
              "      <td>male</td>\n",
              "      <td>89.0</td>\n",
              "      <td>450</td>\n",
              "      <td>no</td>\n",
              "    </tr>\n",
              "    <tr>\n",
              "      <th>2</th>\n",
              "      <td>M</td>\n",
              "      <td>blue</td>\n",
              "      <td>male</td>\n",
              "      <td>99.0</td>\n",
              "      <td>300</td>\n",
              "      <td>yes</td>\n",
              "    </tr>\n",
              "    <tr>\n",
              "      <th>3</th>\n",
              "      <td>L</td>\n",
              "      <td>green</td>\n",
              "      <td>female</td>\n",
              "      <td>129.0</td>\n",
              "      <td>380</td>\n",
              "      <td>no</td>\n",
              "    </tr>\n",
              "    <tr>\n",
              "      <th>4</th>\n",
              "      <td>M</td>\n",
              "      <td>red</td>\n",
              "      <td>female</td>\n",
              "      <td>79.0</td>\n",
              "      <td>410</td>\n",
              "      <td>yes</td>\n",
              "    </tr>\n",
              "  </tbody>\n",
              "</table>\n",
              "</div>"
            ],
            "text/plain": [
              "  size  color  gender  price  weight bought\n",
              "0   XL    red  female  199.0     500    yes\n",
              "1    L  green    male   89.0     450     no\n",
              "2    M   blue    male   99.0     300    yes\n",
              "3    L  green  female  129.0     380     no\n",
              "4    M    red  female   79.0     410    yes"
            ]
          },
          "metadata": {},
          "execution_count": 5
        }
      ]
    },
    {
      "cell_type": "code",
      "metadata": {
        "colab": {
          "base_uri": "https://localhost:8080/",
          "height": 35
        },
        "id": "E7jJZllcBmW5",
        "outputId": "cc00c63c-030a-4016-87a3-739e715c10fb"
      },
      "source": [
        "sklearn.__version__"
      ],
      "execution_count": 6,
      "outputs": [
        {
          "output_type": "execute_result",
          "data": {
            "application/vnd.google.colaboratory.intrinsic+json": {
              "type": "string"
            },
            "text/plain": [
              "'0.22.2.post1'"
            ]
          },
          "metadata": {},
          "execution_count": 6
        }
      ]
    },
    {
      "cell_type": "code",
      "metadata": {
        "id": "rUFWFN1DBp0J"
      },
      "source": [
        "df = df_raw.copy()"
      ],
      "execution_count": 7,
      "outputs": []
    },
    {
      "cell_type": "code",
      "metadata": {
        "colab": {
          "base_uri": "https://localhost:8080/",
          "height": 204
        },
        "id": "qYyFtceLCNH6",
        "outputId": "4a810c99-8685-4108-bc4d-c25f6ec3ea44"
      },
      "source": [
        "df\n"
      ],
      "execution_count": 8,
      "outputs": [
        {
          "output_type": "execute_result",
          "data": {
            "text/html": [
              "<div>\n",
              "<style scoped>\n",
              "    .dataframe tbody tr th:only-of-type {\n",
              "        vertical-align: middle;\n",
              "    }\n",
              "\n",
              "    .dataframe tbody tr th {\n",
              "        vertical-align: top;\n",
              "    }\n",
              "\n",
              "    .dataframe thead th {\n",
              "        text-align: right;\n",
              "    }\n",
              "</style>\n",
              "<table border=\"1\" class=\"dataframe\">\n",
              "  <thead>\n",
              "    <tr style=\"text-align: right;\">\n",
              "      <th></th>\n",
              "      <th>size</th>\n",
              "      <th>color</th>\n",
              "      <th>gender</th>\n",
              "      <th>price</th>\n",
              "      <th>weight</th>\n",
              "      <th>bought</th>\n",
              "    </tr>\n",
              "  </thead>\n",
              "  <tbody>\n",
              "    <tr>\n",
              "      <th>0</th>\n",
              "      <td>XL</td>\n",
              "      <td>red</td>\n",
              "      <td>female</td>\n",
              "      <td>199.0</td>\n",
              "      <td>500</td>\n",
              "      <td>yes</td>\n",
              "    </tr>\n",
              "    <tr>\n",
              "      <th>1</th>\n",
              "      <td>L</td>\n",
              "      <td>green</td>\n",
              "      <td>male</td>\n",
              "      <td>89.0</td>\n",
              "      <td>450</td>\n",
              "      <td>no</td>\n",
              "    </tr>\n",
              "    <tr>\n",
              "      <th>2</th>\n",
              "      <td>M</td>\n",
              "      <td>blue</td>\n",
              "      <td>male</td>\n",
              "      <td>99.0</td>\n",
              "      <td>300</td>\n",
              "      <td>yes</td>\n",
              "    </tr>\n",
              "    <tr>\n",
              "      <th>3</th>\n",
              "      <td>L</td>\n",
              "      <td>green</td>\n",
              "      <td>female</td>\n",
              "      <td>129.0</td>\n",
              "      <td>380</td>\n",
              "      <td>no</td>\n",
              "    </tr>\n",
              "    <tr>\n",
              "      <th>4</th>\n",
              "      <td>M</td>\n",
              "      <td>red</td>\n",
              "      <td>female</td>\n",
              "      <td>79.0</td>\n",
              "      <td>410</td>\n",
              "      <td>yes</td>\n",
              "    </tr>\n",
              "  </tbody>\n",
              "</table>\n",
              "</div>"
            ],
            "text/plain": [
              "  size  color  gender  price  weight bought\n",
              "0   XL    red  female  199.0     500    yes\n",
              "1    L  green    male   89.0     450     no\n",
              "2    M   blue    male   99.0     300    yes\n",
              "3    L  green  female  129.0     380     no\n",
              "4    M    red  female   79.0     410    yes"
            ]
          },
          "metadata": {},
          "execution_count": 8
        }
      ]
    },
    {
      "cell_type": "code",
      "metadata": {
        "colab": {
          "base_uri": "https://localhost:8080/"
        },
        "id": "4KkEbmmRCOFD",
        "outputId": "23486d6e-3f95-4fa2-80ca-ed27ce8f8d3d"
      },
      "source": [
        "df.info()"
      ],
      "execution_count": 9,
      "outputs": [
        {
          "output_type": "stream",
          "name": "stdout",
          "text": [
            "<class 'pandas.core.frame.DataFrame'>\n",
            "RangeIndex: 5 entries, 0 to 4\n",
            "Data columns (total 6 columns):\n",
            " #   Column  Non-Null Count  Dtype  \n",
            "---  ------  --------------  -----  \n",
            " 0   size    5 non-null      object \n",
            " 1   color   5 non-null      object \n",
            " 2   gender  5 non-null      object \n",
            " 3   price   5 non-null      float64\n",
            " 4   weight  5 non-null      int64  \n",
            " 5   bought  5 non-null      object \n",
            "dtypes: float64(1), int64(1), object(4)\n",
            "memory usage: 368.0+ bytes\n"
          ]
        }
      ]
    },
    {
      "cell_type": "code",
      "metadata": {
        "id": "wKu0cLkQCP8N"
      },
      "source": [
        "for col in ['size', 'color', 'gender', 'bought']:\n",
        "  df[col] = df[col].astype('category')\n",
        "\n",
        "df['weight'] = df['weight'].astype('float')"
      ],
      "execution_count": 12,
      "outputs": []
    },
    {
      "cell_type": "code",
      "metadata": {
        "colab": {
          "base_uri": "https://localhost:8080/"
        },
        "id": "6fzRQxbvEN_b",
        "outputId": "75faaede-5a91-44ec-a8f4-d19d3510fdd2"
      },
      "source": [
        "df.info()"
      ],
      "execution_count": 13,
      "outputs": [
        {
          "output_type": "stream",
          "name": "stdout",
          "text": [
            "<class 'pandas.core.frame.DataFrame'>\n",
            "RangeIndex: 5 entries, 0 to 4\n",
            "Data columns (total 6 columns):\n",
            " #   Column  Non-Null Count  Dtype   \n",
            "---  ------  --------------  -----   \n",
            " 0   size    5 non-null      category\n",
            " 1   color   5 non-null      category\n",
            " 2   gender  5 non-null      category\n",
            " 3   price   5 non-null      float64 \n",
            " 4   weight  5 non-null      float64 \n",
            " 5   bought  5 non-null      category\n",
            "dtypes: category(4), float64(2)\n",
            "memory usage: 628.0 bytes\n"
          ]
        }
      ]
    },
    {
      "cell_type": "code",
      "metadata": {
        "colab": {
          "base_uri": "https://localhost:8080/",
          "height": 173
        },
        "id": "uumggHsUEQQ2",
        "outputId": "38a2fa02-fbb0-4353-8e37-2333966f26c4"
      },
      "source": [
        "df.describe(include=['category']).T"
      ],
      "execution_count": 15,
      "outputs": [
        {
          "output_type": "execute_result",
          "data": {
            "text/html": [
              "<div>\n",
              "<style scoped>\n",
              "    .dataframe tbody tr th:only-of-type {\n",
              "        vertical-align: middle;\n",
              "    }\n",
              "\n",
              "    .dataframe tbody tr th {\n",
              "        vertical-align: top;\n",
              "    }\n",
              "\n",
              "    .dataframe thead th {\n",
              "        text-align: right;\n",
              "    }\n",
              "</style>\n",
              "<table border=\"1\" class=\"dataframe\">\n",
              "  <thead>\n",
              "    <tr style=\"text-align: right;\">\n",
              "      <th></th>\n",
              "      <th>count</th>\n",
              "      <th>unique</th>\n",
              "      <th>top</th>\n",
              "      <th>freq</th>\n",
              "    </tr>\n",
              "  </thead>\n",
              "  <tbody>\n",
              "    <tr>\n",
              "      <th>size</th>\n",
              "      <td>5</td>\n",
              "      <td>3</td>\n",
              "      <td>M</td>\n",
              "      <td>2</td>\n",
              "    </tr>\n",
              "    <tr>\n",
              "      <th>color</th>\n",
              "      <td>5</td>\n",
              "      <td>3</td>\n",
              "      <td>red</td>\n",
              "      <td>2</td>\n",
              "    </tr>\n",
              "    <tr>\n",
              "      <th>gender</th>\n",
              "      <td>5</td>\n",
              "      <td>2</td>\n",
              "      <td>female</td>\n",
              "      <td>3</td>\n",
              "    </tr>\n",
              "    <tr>\n",
              "      <th>bought</th>\n",
              "      <td>5</td>\n",
              "      <td>2</td>\n",
              "      <td>yes</td>\n",
              "      <td>3</td>\n",
              "    </tr>\n",
              "  </tbody>\n",
              "</table>\n",
              "</div>"
            ],
            "text/plain": [
              "       count unique     top freq\n",
              "size       5      3       M    2\n",
              "color      5      3     red    2\n",
              "gender     5      2  female    3\n",
              "bought     5      2     yes    3"
            ]
          },
          "metadata": {},
          "execution_count": 15
        }
      ]
    },
    {
      "cell_type": "code",
      "metadata": {
        "colab": {
          "base_uri": "https://localhost:8080/"
        },
        "id": "uXb-PYBrEl1I",
        "outputId": "b857c6f1-4d00-443e-ce34-1bdc02fb6e36"
      },
      "source": [
        "from sklearn.preprocessing import LabelEncoder\n",
        "\n",
        "le = LabelEncoder()\n",
        "le.fit(df['bought'])\n",
        "le.transform(df['bought'])"
      ],
      "execution_count": 18,
      "outputs": [
        {
          "output_type": "execute_result",
          "data": {
            "text/plain": [
              "array([1, 0, 1, 0, 1])"
            ]
          },
          "metadata": {},
          "execution_count": 18
        }
      ]
    },
    {
      "cell_type": "code",
      "metadata": {
        "id": "-G2Wwa0-W2jV"
      },
      "source": [
        "df['bought'] = le.fit_transform(df['bought'])"
      ],
      "execution_count": 19,
      "outputs": []
    },
    {
      "cell_type": "code",
      "metadata": {
        "colab": {
          "base_uri": "https://localhost:8080/",
          "height": 204
        },
        "id": "ou0xezFRXu7s",
        "outputId": "e625967a-db73-47b8-aa6b-026999c36593"
      },
      "source": [
        "df"
      ],
      "execution_count": 20,
      "outputs": [
        {
          "output_type": "execute_result",
          "data": {
            "text/html": [
              "<div>\n",
              "<style scoped>\n",
              "    .dataframe tbody tr th:only-of-type {\n",
              "        vertical-align: middle;\n",
              "    }\n",
              "\n",
              "    .dataframe tbody tr th {\n",
              "        vertical-align: top;\n",
              "    }\n",
              "\n",
              "    .dataframe thead th {\n",
              "        text-align: right;\n",
              "    }\n",
              "</style>\n",
              "<table border=\"1\" class=\"dataframe\">\n",
              "  <thead>\n",
              "    <tr style=\"text-align: right;\">\n",
              "      <th></th>\n",
              "      <th>size</th>\n",
              "      <th>color</th>\n",
              "      <th>gender</th>\n",
              "      <th>price</th>\n",
              "      <th>weight</th>\n",
              "      <th>bought</th>\n",
              "    </tr>\n",
              "  </thead>\n",
              "  <tbody>\n",
              "    <tr>\n",
              "      <th>0</th>\n",
              "      <td>XL</td>\n",
              "      <td>red</td>\n",
              "      <td>female</td>\n",
              "      <td>199.0</td>\n",
              "      <td>500.0</td>\n",
              "      <td>1</td>\n",
              "    </tr>\n",
              "    <tr>\n",
              "      <th>1</th>\n",
              "      <td>L</td>\n",
              "      <td>green</td>\n",
              "      <td>male</td>\n",
              "      <td>89.0</td>\n",
              "      <td>450.0</td>\n",
              "      <td>0</td>\n",
              "    </tr>\n",
              "    <tr>\n",
              "      <th>2</th>\n",
              "      <td>M</td>\n",
              "      <td>blue</td>\n",
              "      <td>male</td>\n",
              "      <td>99.0</td>\n",
              "      <td>300.0</td>\n",
              "      <td>1</td>\n",
              "    </tr>\n",
              "    <tr>\n",
              "      <th>3</th>\n",
              "      <td>L</td>\n",
              "      <td>green</td>\n",
              "      <td>female</td>\n",
              "      <td>129.0</td>\n",
              "      <td>380.0</td>\n",
              "      <td>0</td>\n",
              "    </tr>\n",
              "    <tr>\n",
              "      <th>4</th>\n",
              "      <td>M</td>\n",
              "      <td>red</td>\n",
              "      <td>female</td>\n",
              "      <td>79.0</td>\n",
              "      <td>410.0</td>\n",
              "      <td>1</td>\n",
              "    </tr>\n",
              "  </tbody>\n",
              "</table>\n",
              "</div>"
            ],
            "text/plain": [
              "  size  color  gender  price  weight  bought\n",
              "0   XL    red  female  199.0   500.0       1\n",
              "1    L  green    male   89.0   450.0       0\n",
              "2    M   blue    male   99.0   300.0       1\n",
              "3    L  green  female  129.0   380.0       0\n",
              "4    M    red  female   79.0   410.0       1"
            ]
          },
          "metadata": {},
          "execution_count": 20
        }
      ]
    },
    {
      "cell_type": "code",
      "metadata": {
        "colab": {
          "base_uri": "https://localhost:8080/"
        },
        "id": "TAmto3kaXvxg",
        "outputId": "435622c4-6d66-411c-f016-2191c45bcc38"
      },
      "source": [
        "from sklearn.preprocessing import OneHotEncoder\n",
        "\n",
        "encoder = OneHotEncoder(drop='first' , sparse=False)\n",
        "encoder.fit(df[['size']])"
      ],
      "execution_count": 29,
      "outputs": [
        {
          "output_type": "execute_result",
          "data": {
            "text/plain": [
              "OneHotEncoder(categories='auto', drop='first', dtype=<class 'numpy.float64'>,\n",
              "              handle_unknown='error', sparse=False)"
            ]
          },
          "metadata": {},
          "execution_count": 29
        }
      ]
    },
    {
      "cell_type": "code",
      "metadata": {
        "colab": {
          "base_uri": "https://localhost:8080/"
        },
        "id": "cmA6l7grY0JB",
        "outputId": "d924e5af-13c7-4310-d9d4-d36af4417115"
      },
      "source": [
        "encoder.transform(df[['size']])"
      ],
      "execution_count": 30,
      "outputs": [
        {
          "output_type": "execute_result",
          "data": {
            "text/plain": [
              "array([[0., 1.],\n",
              "       [0., 0.],\n",
              "       [1., 0.],\n",
              "       [0., 0.],\n",
              "       [1., 0.]])"
            ]
          },
          "metadata": {},
          "execution_count": 30
        }
      ]
    },
    {
      "cell_type": "code",
      "metadata": {
        "colab": {
          "base_uri": "https://localhost:8080/"
        },
        "id": "j4VP0ZoWZOrJ",
        "outputId": "60971b91-74d1-44c4-e60a-22258fe88e2b"
      },
      "source": [
        "encoder.categories_"
      ],
      "execution_count": 28,
      "outputs": [
        {
          "output_type": "execute_result",
          "data": {
            "text/plain": [
              "[array(['L', 'M', 'XL'], dtype=object)]"
            ]
          },
          "metadata": {},
          "execution_count": 28
        }
      ]
    },
    {
      "cell_type": "markdown",
      "metadata": {
        "id": "ra7OJ9anaN-x"
      },
      "source": [
        "removing one column, with n number of categories we want to end up with n-1 of columns"
      ]
    },
    {
      "cell_type": "code",
      "metadata": {
        "colab": {
          "base_uri": "https://localhost:8080/",
          "height": 204
        },
        "id": "fpZmxxNYZZS7",
        "outputId": "38116c8a-b9e2-4cfc-9c43-872cce0df97f"
      },
      "source": [
        "df"
      ],
      "execution_count": 31,
      "outputs": [
        {
          "output_type": "execute_result",
          "data": {
            "text/html": [
              "<div>\n",
              "<style scoped>\n",
              "    .dataframe tbody tr th:only-of-type {\n",
              "        vertical-align: middle;\n",
              "    }\n",
              "\n",
              "    .dataframe tbody tr th {\n",
              "        vertical-align: top;\n",
              "    }\n",
              "\n",
              "    .dataframe thead th {\n",
              "        text-align: right;\n",
              "    }\n",
              "</style>\n",
              "<table border=\"1\" class=\"dataframe\">\n",
              "  <thead>\n",
              "    <tr style=\"text-align: right;\">\n",
              "      <th></th>\n",
              "      <th>size</th>\n",
              "      <th>color</th>\n",
              "      <th>gender</th>\n",
              "      <th>price</th>\n",
              "      <th>weight</th>\n",
              "      <th>bought</th>\n",
              "    </tr>\n",
              "  </thead>\n",
              "  <tbody>\n",
              "    <tr>\n",
              "      <th>0</th>\n",
              "      <td>XL</td>\n",
              "      <td>red</td>\n",
              "      <td>female</td>\n",
              "      <td>199.0</td>\n",
              "      <td>500.0</td>\n",
              "      <td>1</td>\n",
              "    </tr>\n",
              "    <tr>\n",
              "      <th>1</th>\n",
              "      <td>L</td>\n",
              "      <td>green</td>\n",
              "      <td>male</td>\n",
              "      <td>89.0</td>\n",
              "      <td>450.0</td>\n",
              "      <td>0</td>\n",
              "    </tr>\n",
              "    <tr>\n",
              "      <th>2</th>\n",
              "      <td>M</td>\n",
              "      <td>blue</td>\n",
              "      <td>male</td>\n",
              "      <td>99.0</td>\n",
              "      <td>300.0</td>\n",
              "      <td>1</td>\n",
              "    </tr>\n",
              "    <tr>\n",
              "      <th>3</th>\n",
              "      <td>L</td>\n",
              "      <td>green</td>\n",
              "      <td>female</td>\n",
              "      <td>129.0</td>\n",
              "      <td>380.0</td>\n",
              "      <td>0</td>\n",
              "    </tr>\n",
              "    <tr>\n",
              "      <th>4</th>\n",
              "      <td>M</td>\n",
              "      <td>red</td>\n",
              "      <td>female</td>\n",
              "      <td>79.0</td>\n",
              "      <td>410.0</td>\n",
              "      <td>1</td>\n",
              "    </tr>\n",
              "  </tbody>\n",
              "</table>\n",
              "</div>"
            ],
            "text/plain": [
              "  size  color  gender  price  weight  bought\n",
              "0   XL    red  female  199.0   500.0       1\n",
              "1    L  green    male   89.0   450.0       0\n",
              "2    M   blue    male   99.0   300.0       1\n",
              "3    L  green  female  129.0   380.0       0\n",
              "4    M    red  female   79.0   410.0       1"
            ]
          },
          "metadata": {},
          "execution_count": 31
        }
      ]
    },
    {
      "cell_type": "code",
      "metadata": {
        "colab": {
          "base_uri": "https://localhost:8080/",
          "height": 204
        },
        "id": "94ywmDAkaudX",
        "outputId": "96eec066-450f-4d6b-aea0-7039b342518e"
      },
      "source": [
        "pd.get_dummies(data=df)"
      ],
      "execution_count": 32,
      "outputs": [
        {
          "output_type": "execute_result",
          "data": {
            "text/html": [
              "<div>\n",
              "<style scoped>\n",
              "    .dataframe tbody tr th:only-of-type {\n",
              "        vertical-align: middle;\n",
              "    }\n",
              "\n",
              "    .dataframe tbody tr th {\n",
              "        vertical-align: top;\n",
              "    }\n",
              "\n",
              "    .dataframe thead th {\n",
              "        text-align: right;\n",
              "    }\n",
              "</style>\n",
              "<table border=\"1\" class=\"dataframe\">\n",
              "  <thead>\n",
              "    <tr style=\"text-align: right;\">\n",
              "      <th></th>\n",
              "      <th>price</th>\n",
              "      <th>weight</th>\n",
              "      <th>bought</th>\n",
              "      <th>size_L</th>\n",
              "      <th>size_M</th>\n",
              "      <th>size_XL</th>\n",
              "      <th>color_blue</th>\n",
              "      <th>color_green</th>\n",
              "      <th>color_red</th>\n",
              "      <th>gender_female</th>\n",
              "      <th>gender_male</th>\n",
              "    </tr>\n",
              "  </thead>\n",
              "  <tbody>\n",
              "    <tr>\n",
              "      <th>0</th>\n",
              "      <td>199.0</td>\n",
              "      <td>500.0</td>\n",
              "      <td>1</td>\n",
              "      <td>0</td>\n",
              "      <td>0</td>\n",
              "      <td>1</td>\n",
              "      <td>0</td>\n",
              "      <td>0</td>\n",
              "      <td>1</td>\n",
              "      <td>1</td>\n",
              "      <td>0</td>\n",
              "    </tr>\n",
              "    <tr>\n",
              "      <th>1</th>\n",
              "      <td>89.0</td>\n",
              "      <td>450.0</td>\n",
              "      <td>0</td>\n",
              "      <td>1</td>\n",
              "      <td>0</td>\n",
              "      <td>0</td>\n",
              "      <td>0</td>\n",
              "      <td>1</td>\n",
              "      <td>0</td>\n",
              "      <td>0</td>\n",
              "      <td>1</td>\n",
              "    </tr>\n",
              "    <tr>\n",
              "      <th>2</th>\n",
              "      <td>99.0</td>\n",
              "      <td>300.0</td>\n",
              "      <td>1</td>\n",
              "      <td>0</td>\n",
              "      <td>1</td>\n",
              "      <td>0</td>\n",
              "      <td>1</td>\n",
              "      <td>0</td>\n",
              "      <td>0</td>\n",
              "      <td>0</td>\n",
              "      <td>1</td>\n",
              "    </tr>\n",
              "    <tr>\n",
              "      <th>3</th>\n",
              "      <td>129.0</td>\n",
              "      <td>380.0</td>\n",
              "      <td>0</td>\n",
              "      <td>1</td>\n",
              "      <td>0</td>\n",
              "      <td>0</td>\n",
              "      <td>0</td>\n",
              "      <td>1</td>\n",
              "      <td>0</td>\n",
              "      <td>1</td>\n",
              "      <td>0</td>\n",
              "    </tr>\n",
              "    <tr>\n",
              "      <th>4</th>\n",
              "      <td>79.0</td>\n",
              "      <td>410.0</td>\n",
              "      <td>1</td>\n",
              "      <td>0</td>\n",
              "      <td>1</td>\n",
              "      <td>0</td>\n",
              "      <td>0</td>\n",
              "      <td>0</td>\n",
              "      <td>1</td>\n",
              "      <td>1</td>\n",
              "      <td>0</td>\n",
              "    </tr>\n",
              "  </tbody>\n",
              "</table>\n",
              "</div>"
            ],
            "text/plain": [
              "   price  weight  bought  ...  color_red  gender_female  gender_male\n",
              "0  199.0   500.0       1  ...          1              1            0\n",
              "1   89.0   450.0       0  ...          0              0            1\n",
              "2   99.0   300.0       1  ...          0              0            1\n",
              "3  129.0   380.0       0  ...          0              1            0\n",
              "4   79.0   410.0       1  ...          1              1            0\n",
              "\n",
              "[5 rows x 11 columns]"
            ]
          },
          "metadata": {},
          "execution_count": 32
        }
      ]
    },
    {
      "cell_type": "code",
      "metadata": {
        "colab": {
          "base_uri": "https://localhost:8080/",
          "height": 204
        },
        "id": "oUdQW8eYay0L",
        "outputId": "6618e0cb-c10f-4ad4-f56d-2dccfaa0722e"
      },
      "source": [
        "pd.get_dummies(data=df, drop_first=True)"
      ],
      "execution_count": 33,
      "outputs": [
        {
          "output_type": "execute_result",
          "data": {
            "text/html": [
              "<div>\n",
              "<style scoped>\n",
              "    .dataframe tbody tr th:only-of-type {\n",
              "        vertical-align: middle;\n",
              "    }\n",
              "\n",
              "    .dataframe tbody tr th {\n",
              "        vertical-align: top;\n",
              "    }\n",
              "\n",
              "    .dataframe thead th {\n",
              "        text-align: right;\n",
              "    }\n",
              "</style>\n",
              "<table border=\"1\" class=\"dataframe\">\n",
              "  <thead>\n",
              "    <tr style=\"text-align: right;\">\n",
              "      <th></th>\n",
              "      <th>price</th>\n",
              "      <th>weight</th>\n",
              "      <th>bought</th>\n",
              "      <th>size_M</th>\n",
              "      <th>size_XL</th>\n",
              "      <th>color_green</th>\n",
              "      <th>color_red</th>\n",
              "      <th>gender_male</th>\n",
              "    </tr>\n",
              "  </thead>\n",
              "  <tbody>\n",
              "    <tr>\n",
              "      <th>0</th>\n",
              "      <td>199.0</td>\n",
              "      <td>500.0</td>\n",
              "      <td>1</td>\n",
              "      <td>0</td>\n",
              "      <td>1</td>\n",
              "      <td>0</td>\n",
              "      <td>1</td>\n",
              "      <td>0</td>\n",
              "    </tr>\n",
              "    <tr>\n",
              "      <th>1</th>\n",
              "      <td>89.0</td>\n",
              "      <td>450.0</td>\n",
              "      <td>0</td>\n",
              "      <td>0</td>\n",
              "      <td>0</td>\n",
              "      <td>1</td>\n",
              "      <td>0</td>\n",
              "      <td>1</td>\n",
              "    </tr>\n",
              "    <tr>\n",
              "      <th>2</th>\n",
              "      <td>99.0</td>\n",
              "      <td>300.0</td>\n",
              "      <td>1</td>\n",
              "      <td>1</td>\n",
              "      <td>0</td>\n",
              "      <td>0</td>\n",
              "      <td>0</td>\n",
              "      <td>1</td>\n",
              "    </tr>\n",
              "    <tr>\n",
              "      <th>3</th>\n",
              "      <td>129.0</td>\n",
              "      <td>380.0</td>\n",
              "      <td>0</td>\n",
              "      <td>0</td>\n",
              "      <td>0</td>\n",
              "      <td>1</td>\n",
              "      <td>0</td>\n",
              "      <td>0</td>\n",
              "    </tr>\n",
              "    <tr>\n",
              "      <th>4</th>\n",
              "      <td>79.0</td>\n",
              "      <td>410.0</td>\n",
              "      <td>1</td>\n",
              "      <td>1</td>\n",
              "      <td>0</td>\n",
              "      <td>0</td>\n",
              "      <td>1</td>\n",
              "      <td>0</td>\n",
              "    </tr>\n",
              "  </tbody>\n",
              "</table>\n",
              "</div>"
            ],
            "text/plain": [
              "   price  weight  bought  size_M  size_XL  color_green  color_red  gender_male\n",
              "0  199.0   500.0       1       0        1            0          1            0\n",
              "1   89.0   450.0       0       0        0            1          0            1\n",
              "2   99.0   300.0       1       1        0            0          0            1\n",
              "3  129.0   380.0       0       0        0            1          0            0\n",
              "4   79.0   410.0       1       1        0            0          1            0"
            ]
          },
          "metadata": {},
          "execution_count": 33
        }
      ]
    },
    {
      "cell_type": "code",
      "metadata": {
        "id": "kZJMeMZmbtUC"
      },
      "source": [
        "from sklearn.preprocessing import StandardScaler\n",
        "\n",
        "scaler = StandardScaler()\n",
        "df[['price', 'weight']] = scaler.fit_transform(df[['price', 'weight']])"
      ],
      "execution_count": 34,
      "outputs": []
    },
    {
      "cell_type": "code",
      "metadata": {
        "colab": {
          "base_uri": "https://localhost:8080/",
          "height": 204
        },
        "id": "IP-IHZl1d78V",
        "outputId": "a4411787-dda1-4bf2-c040-bb16ea728b5d"
      },
      "source": [
        "df"
      ],
      "execution_count": 35,
      "outputs": [
        {
          "output_type": "execute_result",
          "data": {
            "text/html": [
              "<div>\n",
              "<style scoped>\n",
              "    .dataframe tbody tr th:only-of-type {\n",
              "        vertical-align: middle;\n",
              "    }\n",
              "\n",
              "    .dataframe tbody tr th {\n",
              "        vertical-align: top;\n",
              "    }\n",
              "\n",
              "    .dataframe thead th {\n",
              "        text-align: right;\n",
              "    }\n",
              "</style>\n",
              "<table border=\"1\" class=\"dataframe\">\n",
              "  <thead>\n",
              "    <tr style=\"text-align: right;\">\n",
              "      <th></th>\n",
              "      <th>size</th>\n",
              "      <th>color</th>\n",
              "      <th>gender</th>\n",
              "      <th>price</th>\n",
              "      <th>weight</th>\n",
              "      <th>bought</th>\n",
              "    </tr>\n",
              "  </thead>\n",
              "  <tbody>\n",
              "    <tr>\n",
              "      <th>0</th>\n",
              "      <td>XL</td>\n",
              "      <td>red</td>\n",
              "      <td>female</td>\n",
              "      <td>1.845062</td>\n",
              "      <td>1.366002</td>\n",
              "      <td>1</td>\n",
              "    </tr>\n",
              "    <tr>\n",
              "      <th>1</th>\n",
              "      <td>L</td>\n",
              "      <td>green</td>\n",
              "      <td>male</td>\n",
              "      <td>-0.691898</td>\n",
              "      <td>0.623610</td>\n",
              "      <td>0</td>\n",
              "    </tr>\n",
              "    <tr>\n",
              "      <th>2</th>\n",
              "      <td>M</td>\n",
              "      <td>blue</td>\n",
              "      <td>male</td>\n",
              "      <td>-0.461266</td>\n",
              "      <td>-1.603567</td>\n",
              "      <td>1</td>\n",
              "    </tr>\n",
              "    <tr>\n",
              "      <th>3</th>\n",
              "      <td>L</td>\n",
              "      <td>green</td>\n",
              "      <td>female</td>\n",
              "      <td>0.230633</td>\n",
              "      <td>-0.415740</td>\n",
              "      <td>0</td>\n",
              "    </tr>\n",
              "    <tr>\n",
              "      <th>4</th>\n",
              "      <td>M</td>\n",
              "      <td>red</td>\n",
              "      <td>female</td>\n",
              "      <td>-0.922531</td>\n",
              "      <td>0.029696</td>\n",
              "      <td>1</td>\n",
              "    </tr>\n",
              "  </tbody>\n",
              "</table>\n",
              "</div>"
            ],
            "text/plain": [
              "  size  color  gender     price    weight  bought\n",
              "0   XL    red  female  1.845062  1.366002       1\n",
              "1    L  green    male -0.691898  0.623610       0\n",
              "2    M   blue    male -0.461266 -1.603567       1\n",
              "3    L  green  female  0.230633 -0.415740       0\n",
              "4    M    red  female -0.922531  0.029696       1"
            ]
          },
          "metadata": {},
          "execution_count": 35
        }
      ]
    },
    {
      "cell_type": "markdown",
      "metadata": {
        "id": "9RJswP9Yfmo6"
      },
      "source": [
        "the whole preparation, most important - user pandas get dummies to make it easier, use standardscaler for numerical values to standarize. "
      ]
    },
    {
      "cell_type": "code",
      "metadata": {
        "colab": {
          "base_uri": "https://localhost:8080/",
          "height": 204
        },
        "id": "SIAzM9Odd9YG",
        "outputId": "29fc6fce-2d9b-4923-8c16-411e6209190c"
      },
      "source": [
        "from sklearn.preprocessing import LabelEncoder, StandardScaler\n",
        "\n",
        "le = LabelEncoder()\n",
        "scaler = StandardScaler()\n",
        "\n",
        "df['bought'] = le.fit_transform(df['bought'])\n",
        "df[['price', 'weight']] = scaler.fit_transform(df[['price', 'weight']])\n",
        "\n",
        "\n",
        "df = pd.get_dummies(data=df, drop_first=True)\n",
        "df"
      ],
      "execution_count": 36,
      "outputs": [
        {
          "output_type": "execute_result",
          "data": {
            "text/html": [
              "<div>\n",
              "<style scoped>\n",
              "    .dataframe tbody tr th:only-of-type {\n",
              "        vertical-align: middle;\n",
              "    }\n",
              "\n",
              "    .dataframe tbody tr th {\n",
              "        vertical-align: top;\n",
              "    }\n",
              "\n",
              "    .dataframe thead th {\n",
              "        text-align: right;\n",
              "    }\n",
              "</style>\n",
              "<table border=\"1\" class=\"dataframe\">\n",
              "  <thead>\n",
              "    <tr style=\"text-align: right;\">\n",
              "      <th></th>\n",
              "      <th>price</th>\n",
              "      <th>weight</th>\n",
              "      <th>bought</th>\n",
              "      <th>size_M</th>\n",
              "      <th>size_XL</th>\n",
              "      <th>color_green</th>\n",
              "      <th>color_red</th>\n",
              "      <th>gender_male</th>\n",
              "    </tr>\n",
              "  </thead>\n",
              "  <tbody>\n",
              "    <tr>\n",
              "      <th>0</th>\n",
              "      <td>1.845062</td>\n",
              "      <td>1.366002</td>\n",
              "      <td>1</td>\n",
              "      <td>0</td>\n",
              "      <td>1</td>\n",
              "      <td>0</td>\n",
              "      <td>1</td>\n",
              "      <td>0</td>\n",
              "    </tr>\n",
              "    <tr>\n",
              "      <th>1</th>\n",
              "      <td>-0.691898</td>\n",
              "      <td>0.623610</td>\n",
              "      <td>0</td>\n",
              "      <td>0</td>\n",
              "      <td>0</td>\n",
              "      <td>1</td>\n",
              "      <td>0</td>\n",
              "      <td>1</td>\n",
              "    </tr>\n",
              "    <tr>\n",
              "      <th>2</th>\n",
              "      <td>-0.461266</td>\n",
              "      <td>-1.603567</td>\n",
              "      <td>1</td>\n",
              "      <td>1</td>\n",
              "      <td>0</td>\n",
              "      <td>0</td>\n",
              "      <td>0</td>\n",
              "      <td>1</td>\n",
              "    </tr>\n",
              "    <tr>\n",
              "      <th>3</th>\n",
              "      <td>0.230633</td>\n",
              "      <td>-0.415740</td>\n",
              "      <td>0</td>\n",
              "      <td>0</td>\n",
              "      <td>0</td>\n",
              "      <td>1</td>\n",
              "      <td>0</td>\n",
              "      <td>0</td>\n",
              "    </tr>\n",
              "    <tr>\n",
              "      <th>4</th>\n",
              "      <td>-0.922531</td>\n",
              "      <td>0.029696</td>\n",
              "      <td>1</td>\n",
              "      <td>1</td>\n",
              "      <td>0</td>\n",
              "      <td>0</td>\n",
              "      <td>1</td>\n",
              "      <td>0</td>\n",
              "    </tr>\n",
              "  </tbody>\n",
              "</table>\n",
              "</div>"
            ],
            "text/plain": [
              "      price    weight  bought  ...  color_green  color_red  gender_male\n",
              "0  1.845062  1.366002       1  ...            0          1            0\n",
              "1 -0.691898  0.623610       0  ...            1          0            1\n",
              "2 -0.461266 -1.603567       1  ...            0          0            1\n",
              "3  0.230633 -0.415740       0  ...            1          0            0\n",
              "4 -0.922531  0.029696       1  ...            0          1            0\n",
              "\n",
              "[5 rows x 8 columns]"
            ]
          },
          "metadata": {},
          "execution_count": 36
        }
      ]
    },
    {
      "cell_type": "code",
      "metadata": {
        "id": "IUyDDjOLfgnI"
      },
      "source": [
        ""
      ],
      "execution_count": null,
      "outputs": []
    }
  ]
}